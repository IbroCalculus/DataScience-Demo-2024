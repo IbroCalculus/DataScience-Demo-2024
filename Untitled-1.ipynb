{
 "cells": [
  {
   "cell_type": "code",
   "execution_count": null,
   "metadata": {},
   "outputs": [],
   "source": [
    "print(\"Welcome this is codespace jupyter notebook\")\n",
    "fName = input(\"Enter your first name here: \")\n",
    "print('You are welcome Mr {fName}')"
   ]
  }
 ],
 "metadata": {
  "language_info": {
   "name": "python"
  }
 },
 "nbformat": 4,
 "nbformat_minor": 2
}
